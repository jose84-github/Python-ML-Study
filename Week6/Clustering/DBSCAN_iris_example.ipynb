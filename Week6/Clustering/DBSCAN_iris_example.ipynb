{
 "cells": [
  {
   "cell_type": "markdown",
   "metadata": {},
   "source": [
    "### DBSCAN (Density Based Spatial Clustering of Applications with Noise)\n",
    "\n",
    "* 밀도 기반 군집화의 대표적인 알고리즘\n",
    "* 간단하고 직관적인 알고리즘이지만, 데이터의 분포가 기하학적으로 복잡한 데이터 세트에도 효과적인 군집화가 가능\n",
    "\n",
    "  \n",
    "* **DBSCAN을 구성하는 중요한 파라미터**\n",
    "    * 입실론(Epsilon) : 주변 영역이라고도 함. 개별 데이터를 중심으로 입실론 반경을 가지는 원형의 영역\n",
    "    * 최소 데이터 개수(Min Point) : 개별 데이터의 입실론 주변 영역에 포함되는 타 데이터의 개수\n",
    "      \n",
    "        \n",
    "* **주변 영역 내에 포함되는 최소 데이터의 갯수에 따라 다음과 같이 데이터 포인트를 정의함**\n",
    "    * 핵심 포인트(Core Point) : 주변 영역내에 (최소 데이터 개수 < 이웃 포인트) 데이터를 가지고 있는 포인트\n",
    "    * 이웃 포인트(Neighbor Point) :  주변 영역 내에 위치한 타 데이터\n",
    "    * 경계 포인트(Border Point) : 주변 영역내에 (최소 데이터 개수 > 이웃 포인트), 단, 핵심 포인트를 이웃 포인트로 가지고 있는 데이터\n",
    "    * 잡음 포인트(Noise Point) : 주변 영역내에 (최소 데이터 개수 > 이웃 포인트), 그리고 핵심 포인트도 없는 데이터\n",
    "      \n",
    "        \n",
    "* **DBSCAN 알고리즘 동작원리**\n",
    "    * 임의의 데이터가 핵심 포인트인지 구분한다\n",
    "    * 해당 데이터가 핵심 포인트라면, 주변 영역 내에 또 다른 핵심 포인트가 있는지 살펴본다\n",
    "    * 만약, 또 다른 핵심 포인트가 경계 내에 있다면, 서로 연결하여 군집화를 만든다\n",
    "    * 이후 영역내에 다른 핵심 포인트가 없다면 경계 포인트를 찾아서 군집화의 경계로 설정한다\n",
    "    * 즉, 입실론 주변 영역의 최소 데이터 개수를 포함하는 밀도 기준을 충촉시키는 데이터인 핵심 포인트를 연결하면서 군집화를 구성하는 방식임"
   ]
  },
  {
   "cell_type": "markdown",
   "metadata": {},
   "source": [
    "### <붓꽃 품종을 DBSCAN으로 군집화>"
   ]
  },
  {
   "cell_type": "code",
   "execution_count": 3,
   "metadata": {},
   "outputs": [],
   "source": [
    "from sklearn.datasets import load_iris\n",
    "from sklearn.cluster import DBSCAN\n",
    "\n",
    "import matplotlib.pyplot as plt\n",
    "import numpy as np\n",
    "import pandas as pd\n",
    "%matplotlib inline"
   ]
  },
  {
   "cell_type": "code",
   "execution_count": 4,
   "metadata": {},
   "outputs": [],
   "source": [
    "iris = load_iris()\n",
    "feature_names = ['sepal_length', 'sepal_width', 'petal_length', 'petal_width']\n",
    "\n",
    "iris_df = pd.DataFrame(data=iris.data, columns=feature_names)\n",
    "iris_df['target'] = iris.target"
   ]
  },
  {
   "cell_type": "code",
   "execution_count": 5,
   "metadata": {},
   "outputs": [
    {
     "name": "stdout",
     "output_type": "stream",
     "text": [
      "target  dbscan_cluster\n",
      "0        0                49\n",
      "        -1                 1\n",
      "1        1                46\n",
      "        -1                 4\n",
      "2        1                42\n",
      "        -1                 8\n",
      "Name: dbscan_cluster, dtype: int64\n"
     ]
    }
   ],
   "source": [
    "dbscan = DBSCAN(eps=0.6, min_samples=8, metric='euclidean')\n",
    "dbscan_labels = dbscan.fit_predict(iris.data)\n",
    "\n",
    "iris_df['dbscan_cluster'] = dbscan_labels\n",
    "\n",
    "iris_result = iris_df.groupby(['target'])['dbscan_cluster'].value_counts()\n",
    "print(iris_result)"
   ]
  },
  {
   "cell_type": "markdown",
   "metadata": {},
   "source": [
    "###     <1차 군집 결과>\n",
    "* 군집화 결과, 0과 1외에 특이하게 -1이 군집 레이블로 있음\n",
    "* -1은 노이즈에 속하는 군집임\n",
    "* Target 값이 3인데 2개로 군집화 되었다고 효율이 떨어진다는 의미는 아님 DBSCAN은 굱비의 개수를 알고리즘에 따라 자동으로 지정함\n",
    "    * 따라서 DBSCAN에서 군집의 개수를 지정하는 것은 무의미함\n",
    "    * 군집을 3개로 하는 것보다는 2개로 하는 것이 군집화의 효율로서 더 좋은 면이 있음\n",
    "* 군집화 데이터 세트를 2차원 평면에서 표현하기 위해 PCA를 이용해서 2개의 피처로 압축 변환한 뒤, visualize_cluster_plot()함수를 이용해 시각화"
   ]
  },
  {
   "cell_type": "code",
   "execution_count": 6,
   "metadata": {},
   "outputs": [],
   "source": [
    "def visualize_cluster_plot(clusterobj, dataframe, label_name, iscenter=True):\n",
    "    temp_df = dataframe\n",
    "    target_list = np.unique(temp_df[label_name])\n",
    "    \n",
    "    if iscenter==True:\n",
    "        centers = clusterobj.cluster_centers_\n",
    "    \n",
    "    markers=['o', 's', '^', 'P', 'D', 'H', 'x']\n",
    "    \n",
    "    for target in target_list:\n",
    "        target_cluster = temp_df[temp_df[label_name]==target]\n",
    "        plt.scatter(x=target_cluster['ftr1'], y=target_cluster['ftr2'], edgecolor='K', marker=markers[target])\n",
    "        \n",
    "        if iscenter==True:\n",
    "            center_x_y = centers[target]         \n",
    "            plt.scatter(x=center_x_y[0], y=center_x_y[1], s=200, color='white', alpha=0.9, edgecolor='k', marker=markers[target])\n",
    "            plt.scatter(x=center_x_y[0], y=center_x_y[1], s=70, color='k', edgecolor='k', marker='$%d$' % target)\n",
    "    \n",
    "    plt.show()"
   ]
  },
  {
   "cell_type": "code",
   "execution_count": 8,
   "metadata": {},
   "outputs": [
    {
     "name": "stderr",
     "output_type": "stream",
     "text": [
      "<ipython-input-6-bd27934a838a>:12: MatplotlibDeprecationWarning: Support for uppercase single-letter colors is deprecated since Matplotlib 3.1 and will be removed in 3.3; please use lowercase instead.\n",
      "  plt.scatter(x=target_cluster['ftr1'], y=target_cluster['ftr2'], edgecolor='K', marker=markers[target])\n"
     ]
    },
    {
     "data": {
      "image/png": "[encoded data removed]",
      "text/plain": [
       "<Figure size 432x288 with 1 Axes>"
      ]
     },
     "metadata": {
      "needs_background": "light"
     },
     "output_type": "display_data"
    }
   ],
   "source": [
    "from sklearn.decomposition import PCA\n",
    "\n",
    "pca = PCA(n_components=2, random_state=0)\n",
    "pca_transformed = pca.fit_transform(iris.data)\n",
    "\n",
    "iris_df['ftr1'] = pca_transformed[:, 0]\n",
    "iris_df['ftr2'] = pca_transformed[:, 1]\n",
    "\n",
    "visualize_cluster_plot(dbscan, iris_df, 'dbscan_cluster', iscenter=False)"
   ]
  },
  {
   "cell_type": "markdown",
   "metadata": {},
   "source": [
    "### DBSCAN의 주의점\n",
    "* DBSCAN을 적용할 때는 특정 군집 개수로 군집을 강제하지 않는 것이 좋음\n",
    "* 일반적으노 eps값을 크게 하면 반경이 커져서 포함하는 데이터가 많아짐 -> 노이즈 데이터 갯수 작아짐\n",
    "* min_samples를 크게하면 포함해야하는 반경의 데이터가 많아야 하므로 노이즈 데이터 갯수 많아짐\n",
    "    * 데이터 밀도가 더 커져야 하는데 매우 촘촘한 데이터 분포가 아닌 경우 노이즈로 인식"
   ]
  },
  {
   "cell_type": "markdown",
   "metadata": {},
   "source": [
    "### eps=0.8, min_samples=8일경우"
   ]
  },
  {
   "cell_type": "code",
   "execution_count": 15,
   "metadata": {},
   "outputs": [
    {
     "name": "stdout",
     "output_type": "stream",
     "text": [
      "target  dbscan_cluster\n",
      "0        0                50\n",
      "1        1                50\n",
      "2        1                47\n",
      "        -1                 3\n",
      "Name: dbscan_cluster, dtype: int64\n"
     ]
    },
    {
     "data": {
      "image/png": "[encoded data removed]",
      "text/plain": [
       "<Figure size 432x288 with 1 Axes>"
      ]
     },
     "metadata": {
      "needs_background": "light"
     },
     "output_type": "display_data"
    }
   ],
   "source": [
    "dbscan = DBSCAN(eps=0.8, min_samples=8, metric='euclidean')\n",
    "dbscan_labels = dbscan.fit_predict(iris.data)\n",
    "\n",
    "iris_df['dbscan_cluster'] = dbscan_labels\n",
    "iris_df['target'] = iris.target\n",
    "\n",
    "iris_result = iris_df.groupby(['target'])['dbscan_cluster'].value_counts()\n",
    "print(iris_result)\n",
    "\n",
    "visualize_cluster_plot(dbscan, iris_df, 'dbscan_cluster', None)"
   ]
  },
  {
   "cell_type": "markdown",
   "metadata": {},
   "source": [
    "### eps=0.6, min_samples=16일경우"
   ]
  },
  {
   "cell_type": "code",
   "execution_count": 16,
   "metadata": {},
   "outputs": [
    {
     "name": "stdout",
     "output_type": "stream",
     "text": [
      "target  dbscan_cluster\n",
      "0        0                48\n",
      "        -1                 2\n",
      "1        1                44\n",
      "        -1                 6\n",
      "2        1                36\n",
      "        -1                14\n",
      "Name: dbscan_cluster, dtype: int64\n"
     ]
    },
    {
     "data": {
      "image/png": "[encoded data removed]",
      "text/plain": [
       "<Figure size 432x288 with 1 Axes>"
      ]
     },
     "metadata": {
      "needs_background": "light"
     },
     "output_type": "display_data"
    }
   ],
   "source": [
    "dbscan = DBSCAN(eps=0.6, min_samples=16, metric='euclidean')\n",
    "dbscan_labels = dbscan.fit_predict(iris.data)\n",
    "\n",
    "iris_df['dbscan_cluster'] = dbscan_labels\n",
    "iris_df['target'] = iris.target\n",
    "\n",
    "iris_result = iris_df.groupby(['target'])['dbscan_cluster'].value_counts()\n",
    "print(iris_result)\n",
    "\n",
    "visualize_cluster_plot(dbscan, iris_df, 'dbscan_cluster', None)"
   ]
  }
 ],
 "metadata": {
  "kernelspec": {
   "display_name": "Python 3",
   "language": "python",
   "name": "python3"
  },
  "language_info": {
   "codemirror_mode": {
    "name": "ipython",
    "version": 3
   },
   "file_extension": ".py",
   "mimetype": "text/x-python",
   "name": "python",
   "nbconvert_exporter": "python",
   "pygments_lexer": "ipython3",
   "version": "3.8.3"
  }
 },
 "nbformat": 4,
 "nbformat_minor": 4
}
