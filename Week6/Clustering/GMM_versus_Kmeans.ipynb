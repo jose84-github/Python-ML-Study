{
 "cells": [
  {
   "cell_type": "code",
   "execution_count": 2,
   "metadata": {},
   "outputs": [],
   "source": [
    "from sklearn.datasets import load_iris\n",
    "from sklearn.cluster import KMeans\n",
    "from sklearn.mixture import GaussianMixture\n",
    "\n",
    "import matplotlib.pyplot as plt\n",
    "import numpy as np\n",
    "import pandas as pd\n",
    "%matplotlib inline"
   ]
  },
  {
   "cell_type": "code",
   "execution_count": 3,
   "metadata": {},
   "outputs": [],
   "source": [
    "iris = load_iris()\n",
    "feature_names = ['sepal_length', 'sepal_width', 'petal_length', 'petal_width']\n",
    "\n",
    "iris_df = pd.DataFrame(data=iris.data, columns=feature_names)\n",
    "iris_df['target'] = iris.target"
   ]
  },
  {
   "cell_type": "markdown",
   "metadata": {},
   "source": [
    "### GMM Clustering과 K-Means 알고리즘의 성능 비교\n",
    "    * GMM으로 군집화한 붓꽃 데이터는 Target값이 0일 때 0만, 2일때 2만 군집이 되어있는 것을 확인할 수 있음\n",
    "    * 이에 반해 평균 거리 중심으로 중심 이동하는 K-Means의 경우 일부 군집결과가 잘 안되는 것을 확인할 수 있음\n",
    "    * GMM이 K-Means보다 붓꽃데이터 군집화에 더 적합한 것을 확인할 수 있음\n",
    "    * 단, 이는 개별 군집 내의 데이터가 원형으로 흩어져 있지 않은 붓꽃 데이터의 특성 때문임\n",
    "        (K-Means는 데이터의 군집 모형이 원형일 경우 성능이 좋음)"
   ]
  },
  {
   "cell_type": "code",
   "execution_count": 8,
   "metadata": {},
   "outputs": [
    {
     "name": "stdout",
     "output_type": "stream",
     "text": [
      "target  gmm_cluster\n",
      "0       0              50\n",
      "1       1              45\n",
      "        2               5\n",
      "2       2              50\n",
      "Name: gmm_cluster, dtype: int64\n"
     ]
    }
   ],
   "source": [
    "gmm = GaussianMixture(n_components=3, random_state=0)\n",
    "gmm.fit(iris.data)\n",
    "gmm_cluster_labels = gmm.predict(iris.data)\n",
    "\n",
    "iris_df['gmm_cluster'] = gmm_cluster_labels\n",
    "iris_df['target'] = iris.target\n",
    "\n",
    "iris_result = iris_df.groupby(['target'])['gmm_cluster'].value_counts()\n",
    "print(iris_result)"
   ]
  },
  {
   "cell_type": "code",
   "execution_count": 10,
   "metadata": {},
   "outputs": [
    {
     "name": "stdout",
     "output_type": "stream",
     "text": [
      "target  kmeans_cluster\n",
      "0       1                 50\n",
      "1       2                 48\n",
      "        0                  2\n",
      "2       0                 36\n",
      "        2                 14\n",
      "Name: kmeans_cluster, dtype: int64\n"
     ]
    }
   ],
   "source": [
    "kmeans = KMeans(n_clusters=3, init='k-means++', max_iter=300, random_state=0)\n",
    "kmeans.fit(iris.data)\n",
    "kmeans_cluster_labels = kmeans.predict(iris.data)\n",
    "iris_df['kmeans_cluster'] = kmeans_cluster_labels\n",
    "iris_result = iris_df.groupby(['target'])['kmeans_cluster'].value_counts()\n",
    "print(iris_result)"
   ]
  },
  {
   "cell_type": "markdown",
   "metadata": {},
   "source": [
    "### 원형 데이터 세트에서의 GMM과 K-Means의 성능 비교\n",
    "    * Kmeans는 원형의 범위에서 군집화의 효율이 높아짐\n",
    "    * make_blobs()의 군집 수를 3개로 하되, cluster_std를 0.5로 하여 군집내의 데이터를 뭉치게 만들어K-Means를 적용\n",
    "    * cluster_std를 작게 설정하면 데이터들의 형태가 원형으로 분산됨\n",
    "    * 만약, 데이터가 원형이 아닌, 타원형일 경우에는 KMeans의 성능이 떨어지는 것을 볼 수 있음\n",
    "    * visualize_cluster_plot(clusterobj, dataframe, label_name, iscenter=True)함수를 통해서 시각화를 할 예정\n",
    "        * clusterobj : sklearn의 KMeans 또난 GMM의 fit()와 predict()로 군집화한 객체, makeblob()으로 생성한 데이터의 경우 None\n",
    "        * dataframe : 피처 데이터 세트와 label 값을 가진 Dataframe\n",
    "        * lable_name : 군집화 결과 시각화일 경우 dataframe 내의 군집화 label 칼럼명, make_blobs()결과 시각화일 경우 dataframe내의\n",
    "                        target 칼럼명\n",
    "        * iscenter : sklearn Cluster객체가 군집 중심 좌표를 제공하면 True, 아니면 False"
   ]
  },
  {
   "cell_type": "code",
   "execution_count": 25,
   "metadata": {},
   "outputs": [],
   "source": [
    "def visualize_cluster_plot(clusterobj, dataframe, label_name, iscenter=True):\n",
    "    temp_df = dataframe\n",
    "    target_list = np.unique(temp_df[label_name])\n",
    "    \n",
    "    if iscenter==True:\n",
    "        centers = clusterobj.cluster_centers_\n",
    "    \n",
    "    markers=['o', 's', '^', 'P', 'D', 'H', 'x']\n",
    "    \n",
    "    for target in target_list:\n",
    "        target_cluster = temp_df[temp_df[label_name]==target]\n",
    "        plt.scatter(x=target_cluster['ftr1'], y=target_cluster['ftr2'], edgecolor='K', marker=markers[target])\n",
    "        \n",
    "        if iscenter==True:\n",
    "            center_x_y = centers[target]         \n",
    "            plt.scatter(x=center_x_y[0], y=center_x_y[1], s=200, color='white', alpha=0.9, edgecolor='k', marker=markers[target])\n",
    "            plt.scatter(x=center_x_y[0], y=center_x_y[1], s=70, color='k', edgecolor='k', marker='$%d$' % target)\n",
    "    \n",
    "    plt.show()"
   ]
  },
  {
   "cell_type": "code",
   "execution_count": null,
   "metadata": {},
   "outputs": [],
   "source": [
    "from sklearn.datasets import make_blobs\n",
    "\n",
    "X, y = make_blobs(n_samples=300, n_features=2, centers=3, cluster_std=0.5, random_state=0)\n",
    "\n",
    "transformation = [[0.60834549, -0.63667341], [-0.40887718, 0.85253229]]\n",
    "X_aniso = np.dot(X, transformation)\n",
    "cluster_df = pd.DataFrame(data=X_aniso, columns=['ftr1', 'ftr2'])\n",
    "cluster_df['target'] = y\n",
    "visualize_cluster_plot(None, cluster_df, 'target', iscenter=False)"
   ]
  },
  {
   "cell_type": "code",
   "execution_count": 28,
   "metadata": {},
   "outputs": [
    {
     "data": {
      "image/png": "[encoded data removed]",
      "text/plain": [
       "<Figure size 432x288 with 1 Axes>"
      ]
     },
     "metadata": {
      "needs_background": "light"
     },
     "output_type": "display_data"
    }
   ],
   "source": [
    "kmeans=KMeans(3, random_state=0)\n",
    "kmeans_label = kmeans.fit_predict(X_aniso)\n",
    "cluster_df['kmeans_label']=kmeans_label\n",
    "\n",
    "visualize_cluster_plot(kmeans, cluster_df, 'kmeans_label', iscenter=True)"
   ]
  },
  {
   "cell_type": "code",
   "execution_count": 30,
   "metadata": {},
   "outputs": [
    {
     "data": {
      "image/png": "[encoded data removed]",
      "text/plain": [
       "<Figure size 432x288 with 1 Axes>"
      ]
     },
     "metadata": {
      "needs_background": "light"
     },
     "output_type": "display_data"
    }
   ],
   "source": [
    "gmm = GaussianMixture(n_components=3, random_state=0)\n",
    "gmm_label = gmm.fit(X_aniso).predict(X_aniso)\n",
    "cluster_df['gmm_label'] = gmm_label\n",
    "\n",
    "visualize_cluster_plot(gmm, cluster_df, 'gmm_label', iscenter=False)"
   ]
  },
  {
   "cell_type": "markdown",
   "metadata": {},
   "source": [
    "* Kmeans의 경우 타원형태의 데이터에 대한 군집화 성능이 떨어지는 것을 알 수 있음\n",
    "* GMM의 경우 타원형태의 데이터도 군집화 성능이 높음\n",
    "* 다만, GMM은 Center에 대한 좌표를 제공하지 않으므로, make_blobs()의 Target값과 KMean, GMM의 군집 label을 비교하여 성능 검증해야함"
   ]
  },
  {
   "cell_type": "code",
   "execution_count": 31,
   "metadata": {},
   "outputs": [
    {
     "name": "stdout",
     "output_type": "stream",
     "text": [
      "### KMeans Clustering ###\n",
      "target  kmeans_label\n",
      "0       2                73\n",
      "        0                27\n",
      "1       1               100\n",
      "2       0                86\n",
      "        2                14\n",
      "Name: kmeans_label, dtype: int64\n",
      "\n",
      "### Gaussian Mixture Clustering ###\n",
      "target  gmm_label\n",
      "0       2            100\n",
      "1       1            100\n",
      "2       0            100\n",
      "Name: gmm_label, dtype: int64\n"
     ]
    }
   ],
   "source": [
    "print('### KMeans Clustering ###')\n",
    "print(cluster_df.groupby('target')['kmeans_label'].value_counts())\n",
    "print('\\n### Gaussian Mixture Clustering ###')\n",
    "print(cluster_df.groupby('target')['gmm_label'].value_counts())"
   ]
  }
 ],
 "metadata": {
  "kernelspec": {
   "display_name": "Python 3",
   "language": "python",
   "name": "python3"
  },
  "language_info": {
   "codemirror_mode": {
    "name": "ipython",
    "version": 3
   },
   "file_extension": ".py",
   "mimetype": "text/x-python",
   "name": "python",
   "nbconvert_exporter": "python",
   "pygments_lexer": "ipython3",
   "version": "3.8.3"
  }
 },
 "nbformat": 4,
 "nbformat_minor": 4
}
