{
 "cells": [
  {
   "cell_type": "code",
   "execution_count": null,
   "metadata": {},
   "outputs": [],
   "source": []
  },
  {
   "cell_type": "code",
   "execution_count": 10,
   "metadata": {},
   "outputs": [
    {
     "name": "stdout",
     "output_type": "stream",
     "text": [
      "<출력화면>\n",
      "sequence array :  [ 5  6  7  8  9 10 11 12 13 14]\n",
      "array_float :  [ 5.  6.  7.  8.  9. 10. 11. 12. 13. 14.]\n",
      "type : float64\n",
      "array2 : \n",
      " [[ 5.  6.  7.  8.  9.]\n",
      " [10. 11. 12. 13. 14.]]\n",
      "shape : (2, 5)\n"
     ]
    }
   ],
   "source": [
    "#Q1 - 5부터 14까지의 1차원 ndarray를 생성하여 다음과 같은 화면이 출력되도록 numpy로 데이터를 핸들링하세요\"\n",
    "import numpy as np\n",
    "print(\"<출력화면>\")\n",
    "sequence_array = np.arange(start=5, stop=15)\n",
    "\n",
    "print('sequence array : ', sequence_array)\n",
    "array_float = sequence_array.astype('float64')\n",
    "print('array_float : ', array_float)\n",
    "print('type :',array_float.dtype)\n",
    "\n",
    "array2 = array_float.reshape(2,5)\n",
    "print('array2 : \\n', array2)\n",
    "print('shape :', array2.shape)"
   ]
  },
  {
   "cell_type": "code",
   "execution_count": 11,
   "metadata": {
    "scrolled": true
   },
   "outputs": [
    {
     "name": "stdout",
     "output_type": "stream",
     "text": [
      "Slicing Indexing Result : \n",
      " [[ 7  8]\n",
      " [12 13]]\n",
      "Fancy Indexing Result :\n",
      " [[ 7  8]\n",
      " [12 13]]\n",
      "Boolean Indexing Result :\n",
      " [ 7  8  9 10 11 12 13 14]\n"
     ]
    }
   ],
   "source": [
    "#Q2 - Q1에서 만든 ndarray를 활용하여 다음의 인덱싱 결과를 출력하세요\n",
    "\n",
    "array_int = array2.astype('int64')\n",
    "print('Slicing Indexing Result : \\n', array_int[0:2, 2:4])\n",
    "print('Fancy Indexing Result :\\n', array_int[[0,1],2:4])\n",
    "print('Boolean Indexing Result :\\n', sequence_array[sequence_array>6])"
   ]
  },
  {
   "cell_type": "code",
   "execution_count": 12,
   "metadata": {},
   "outputs": [
    {
     "name": "stdout",
     "output_type": "stream",
     "text": [
      "Student Name :  ['John' 'Mike' 'Sarah' 'Kate' 'Samuel']\n",
      "Score : [78 95 84 98 88]\n",
      "성적 내림차순으로 name_array의 이름 출력: ['Kate' 'Mike' 'Samuel' 'Sarah' 'John']\n",
      "성적 내림차순 정렬 시 score_array의 인덱스: [3 1 4 2 0]\n"
     ]
    }
   ],
   "source": [
    "#Q3 - 다음의 각 학생들의 성적을 내림차순으로 정렬을 한 후 각 학생의 이름과 원본 행렬의 인덱스 값을 출력하시오\n",
    "\n",
    "name_array = np.array(['John', 'Mike', 'Sarah', 'Kate', 'Samuel'])\n",
    "score_array= np.array([78, 95, 84, 98, 88])\n",
    "print(\"Student Name : \", name_array)\n",
    "print(\"Score :\", score_array)\n",
    "\n",
    "\n",
    "n=len(score_array)\n",
    "sort_indices_asc = np.argsort(score_array)\n",
    "decending_indices = sort_indices_asc[::-1][:n]\n",
    "print('성적 내림차순으로 name_array의 이름 출력:', name_array[decending_indices])\n",
    "print('성적 내림차순 정렬 시 score_array의 인덱스:', decending_indices)"
   ]
  },
  {
   "cell_type": "code",
   "execution_count": 13,
   "metadata": {},
   "outputs": [
    {
     "data": {
      "text/plain": [
       "PassengerId    0\n",
       "Survived       0\n",
       "Pclass         0\n",
       "Name           0\n",
       "Sex            0\n",
       "Age            0\n",
       "SibSp          0\n",
       "Parch          0\n",
       "Ticket         0\n",
       "Fare           0\n",
       "Cabin          0\n",
       "Embarked       0\n",
       "dtype: int64"
      ]
     },
     "execution_count": 13,
     "metadata": {},
     "output_type": "execute_result"
    }
   ],
   "source": [
    "#Q4 - (1) 타이타닉 데이터를 읽어들여 다음의 문제를 완료하시오\"\n",
    "import pandas as pd\n",
    "titanic_df = pd.read_csv('titanic_train.csv')\n",
    "\n",
    "#(1) 결손 데이터를 검색하여 Missing 데이터를 처리하고 isna()로 결손 데이터 여부를 출력하시오\n",
    "titanic_df.isna().sum()\n",
    "titanic_df['Cabin'] = titanic_df['Cabin'].fillna('C000')\n",
    "titanic_df['Age'] = titanic_df['Age'].fillna(titanic_df['Age'].mean())\n",
    "titanic_df['Embarked'] = titanic_df['Embarked'].fillna('S')\n",
    "titanic_df.isna().sum()"
   ]
  },
  {
   "cell_type": "code",
   "execution_count": 14,
   "metadata": {},
   "outputs": [
    {
     "name": "stdout",
     "output_type": "stream",
     "text": [
      "   PassengerId  Survived  Pclass  \\\n",
      "0            1         0       3   \n",
      "1            2         1       1   \n",
      "2            3         1       3   \n",
      "\n",
      "                                                Name     Sex   Age  \\\n",
      "0                            Braund, Mr. Owen Harris    male  22.0   \n",
      "1  Cumings, Mrs. John Bradley (Florence Briggs Th...  female  38.0   \n",
      "2                             Heikkinen, Miss. Laina  female  26.0   \n",
      "\n",
      "             Ticket     Fare Cabin Embarked  Age_0  Age_by_10  Family_No  \n",
      "0         A/5 21171   7.2500  C000        S      0      220.0          2  \n",
      "1          PC 17599  71.2833   C85        C      0      380.0          2  \n",
      "2  STON/O2. 3101282   7.9250  C000        S      0      260.0          1  \n"
     ]
    }
   ],
   "source": [
    "#(2) Age_0(Age=0)변수와 Age_by_10(Age*10)변수와 Family (Siblings + Parch+1)변수를 새로 생성하시오\n",
    "titanic_df ['Age_0']=0\n",
    "titanic_df['Age_by_10'] = titanic_df['Age']*10\n",
    "titanic_df['Family_No'] = titanic_df['SibSp'] + titanic_df['Parch']+1\n",
    "\n",
    "#(3) Age, SibSp, Parch는 데이터 프레임에서 삭제한 후 상위 3개 데이터를 출력하시오\n",
    "titanic_df.drop(['SibSp', 'Parch'], axis=1, inplace=True)\n",
    "print(titanic_df.head(3))"
   ]
  },
  {
   "cell_type": "code",
   "execution_count": 15,
   "metadata": {},
   "outputs": [
    {
     "data": {
      "text/plain": [
       "Age_cat  Sex   \n",
       "10       female     75\n",
       "         male       89\n",
       "20       female    125\n",
       "         male      272\n",
       "30       female     60\n",
       "         male      107\n",
       "40       female     32\n",
       "         male       57\n",
       "50       female     18\n",
       "         male       30\n",
       "60       female      4\n",
       "         male       15\n",
       "70       male        6\n",
       "80       male        1\n",
       "Name: PassengerId, dtype: int64"
      ]
     },
     "execution_count": 15,
     "metadata": {},
     "output_type": "execute_result"
    }
   ],
   "source": [
    "#(4) 각 연령대(10대 ~ 60대)별 남녀가 몇명인지 구하시오\n",
    "def get_category(age):\n",
    "    cat = ''\n",
    "    if age < 20: cat = '10'\n",
    "    elif age < 30: cat = '20'\n",
    "    elif age < 40: cat = '30'\n",
    "    elif age < 50: cat = '40'\n",
    "    elif age < 60: cat = '50'\n",
    "    elif age < 70: cat = '60'\n",
    "    elif age < 80: cat = '70'\n",
    "    else : cat = '80'\n",
    "    \n",
    "    return cat\n",
    "\n",
    "titanic_df['Age_cat'] = titanic_df['Age'].apply(lambda x : get_category(x))\n",
    "titanic_groupby = titanic_df.groupby(['Age_cat','Sex'])['PassengerId'].count()\n",
    "titanic_groupby"
   ]
  },
  {
   "cell_type": "code",
   "execution_count": null,
   "metadata": {},
   "outputs": [],
   "source": []
  },
  {
   "cell_type": "code",
   "execution_count": null,
   "metadata": {},
   "outputs": [],
   "source": []
  },
  {
   "cell_type": "code",
   "execution_count": null,
   "metadata": {},
   "outputs": [],
   "source": []
  },
  {
   "cell_type": "code",
   "execution_count": null,
   "metadata": {},
   "outputs": [],
   "source": []
  }
 ],
 "metadata": {
  "kernelspec": {
   "display_name": "Python 3",
   "language": "python",
   "name": "python3"
  },
  "language_info": {
   "codemirror_mode": {
    "name": "ipython",
    "version": 3
   },
   "file_extension": ".py",
   "mimetype": "text/x-python",
   "name": "python",
   "nbconvert_exporter": "python",
   "pygments_lexer": "ipython3",
   "version": "3.8.3"
  }
 },
 "nbformat": 4,
 "nbformat_minor": 4
}
