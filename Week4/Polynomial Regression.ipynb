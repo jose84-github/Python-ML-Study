{
 "cells": [
  {
   "cell_type": "code",
   "execution_count": 18,
   "metadata": {},
   "outputs": [
    {
     "name": "stdout",
     "output_type": "stream",
     "text": [
      "일차 단항식 계수 피처:\n",
      " [[0 1]\n",
      " [2 3]]\n",
      "변환된 2차 다항식 계수 피처 : \n",
      " [[1. 0. 1. 0. 0. 1.]\n",
      " [1. 2. 3. 4. 6. 9.]]\n"
     ]
    }
   ],
   "source": [
    "from sklearn.linear_model import LinearRegression\n",
    "from sklearn.preprocessing import PolynomialFeatures\n",
    "from sklearn.pipeline import Pipeline\n",
    "import numpy as np\n",
    "\n",
    "x = np.arange(4).reshape(2,2)\n",
    "print('일차 단항식 계수 피처:\\n', x)\n",
    "\n",
    "poly = PolynomialFeatures(degree = 2)\n",
    "poly.fit(x)\n",
    "poly_ftr = poly.transform(x)\n",
    "print('변환된 2차 다항식 계수 피처 : \\n', poly_ftr)"
   ]
  },
  {
   "cell_type": "code",
   "execution_count": 14,
   "metadata": {},
   "outputs": [
    {
     "name": "stdout",
     "output_type": "stream",
     "text": [
      "일차 단항식 계수 feature : \n",
      " [[0 1]\n",
      " [2 3]]\n",
      "삼차 다항식 결정값: \n",
      " [  5 125]\n"
     ]
    }
   ],
   "source": [
    "def polynomial_func(x):\n",
    "    y = 1+ 2*x[:,0] + 3*x[:,0]**2 + 4*x[:,1]**3\n",
    "    return y\n",
    "\n",
    "x = np.arange(4).reshape(2,2)\n",
    "print('일차 단항식 계수 feature : \\n', x)\n",
    "y = polynomial_func(x)\n",
    "print('삼차 다항식 결정값: \\n', y)"
   ]
  },
  {
   "cell_type": "code",
   "execution_count": 17,
   "metadata": {},
   "outputs": [
    {
     "name": "stdout",
     "output_type": "stream",
     "text": [
      "3차 다항식 계수 feature: \n",
      " [[ 1.  0.  1.  0.  0.  1.  0.  0.  0.  1.]\n",
      " [ 1.  2.  3.  4.  6.  9.  8. 12. 18. 27.]]\n",
      "Polynomial 회귀 계수\n",
      " [0.   0.18 0.18 0.36 0.54 0.72 0.72 1.08 1.62 2.34]\n",
      "Polynomial 회귀 Shape :  (10,)\n"
     ]
    }
   ],
   "source": [
    "poly_ftr = PolynomialFeatures(degree=3).fit_transform(x)\n",
    "print('3차 다항식 계수 feature: \\n', poly_ftr)\n",
    "\n",
    "model = LinearRegression()\n",
    "model.fit(poly_ftr, y)\n",
    "print('Polynomial 회귀 계수\\n', np.round(model.coef_, 2))\n",
    "print('Polynomial 회귀 Shape : ', model.coef_.shape)"
   ]
  },
  {
   "cell_type": "code",
   "execution_count": 20,
   "metadata": {},
   "outputs": [
    {
     "name": "stdout",
     "output_type": "stream",
     "text": [
      "Polynomial 회귀 계수\n",
      " [0.   0.18 0.18 0.36 0.54 0.72 0.72 1.08 1.62 2.34]\n"
     ]
    }
   ],
   "source": [
    "model2 = Pipeline([('poly', PolynomialFeatures(degree=3)), ('linear', LinearRegression())])\n",
    "x = np.arange(4).reshape(2,2)\n",
    "y = polynomial_func(x)\n",
    "\n",
    "model2 = model2.fit(x, y)\n",
    "\n",
    "print('Polynomial 회귀 계수\\n', np.round(model2.named_steps['linear'].coef_, 2))"
   ]
  }
 ],
 "metadata": {
  "kernelspec": {
   "display_name": "Python 3",
   "language": "python",
   "name": "python3"
  },
  "language_info": {
   "codemirror_mode": {
    "name": "ipython",
    "version": 3
   },
   "file_extension": ".py",
   "mimetype": "text/x-python",
   "name": "python",
   "nbconvert_exporter": "python",
   "pygments_lexer": "ipython3",
   "version": "3.8.3"
  }
 },
 "nbformat": 4,
 "nbformat_minor": 4
}
